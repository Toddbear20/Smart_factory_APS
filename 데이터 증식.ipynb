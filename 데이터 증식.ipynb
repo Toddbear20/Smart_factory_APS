{
 "cells": [
  {
   "cell_type": "markdown",
   "id": "de16bb5b",
   "metadata": {},
   "source": [
    "## 영업 수주 데이터 증식"
   ]
  },
  {
   "cell_type": "code",
   "execution_count": 132,
   "id": "1e05eccc",
   "metadata": {},
   "outputs": [],
   "source": [
    "import pandas as pd\n",
    "import numpy as np\n",
    "import warnings\n",
    "warnings.filterwarnings('ignore')\n",
    "\n",
    "\n",
    "sales = pd.read_excel('./엑셀분리기본파일/영업수주기본.xlsx', header=1, )\n",
    "sales.drop('Unnamed: 0',axis=1, inplace =True)"
   ]
  },
  {
   "cell_type": "markdown",
   "id": "aa2a7434",
   "metadata": {},
   "source": [
    "### 시멘트 국내 출하량"
   ]
  },
  {
   "cell_type": "code",
   "execution_count": 133,
   "id": "cd3db981",
   "metadata": {},
   "outputs": [],
   "source": [
    "# 20년도 시멘트 국내 출하량 데이터 스크랩\n",
    "sm_df_20 = pd.read_html('http://www.cement.or.kr/stati_2015/field_statistics_2020.asp?sm=2_3_0', header=0)\n",
    "sm_df20=sm_df_20[0]\n",
    "sm_df20=sm_df20[['월별','내수계']]\n",
    "# 단위 : 천톤\n",
    "sm_df20.drop([0,7,14], axis=0, inplace=True)\n",
    "sm_df20.reset_index(drop=True, inplace=True)"
   ]
  },
  {
   "cell_type": "code",
   "execution_count": 134,
   "id": "0060ec6d",
   "metadata": {},
   "outputs": [],
   "source": [
    "## csv 파일                    \n",
    "# sm_df20.to_csv('시멘트국내출하2020.csv')                "
   ]
  },
  {
   "cell_type": "code",
   "execution_count": 135,
   "id": "924d8eb6",
   "metadata": {},
   "outputs": [],
   "source": [
    "# 21년도 시멘트 국내 출하량 데이터 스크랩\n",
    "sm_df_21 = pd.read_html('http://www.cement.or.kr/stati_2015/field_statistics.asp?sm=2_3_0', header=0)\n",
    "sm_df21=sm_df_21[0]\n",
    "sm_df21=sm_df21[['월별','내수계']]\n",
    "# 단위 : 천톤\n",
    "sm_df21.drop([0,7,14], axis=0, inplace=True)\n",
    "sm_df21.reset_index(drop=True, inplace=True)"
   ]
  },
  {
   "cell_type": "code",
   "execution_count": 136,
   "id": "17d4a82c",
   "metadata": {},
   "outputs": [],
   "source": [
    "## csv 파일  \n",
    "# sm_df21.to_csv('시멘트국내출하2021.csv')"
   ]
  },
  {
   "cell_type": "code",
   "execution_count": 137,
   "id": "9f4868d1",
   "metadata": {},
   "outputs": [],
   "source": [
    "df_sale = sales[['거래처코드','제품코드','수주량','수주단가','수주금액','수주일자','납기일자']]"
   ]
  },
  {
   "cell_type": "code",
   "execution_count": 138,
   "id": "3ae178f4",
   "metadata": {},
   "outputs": [
    {
     "data": {
      "text/html": [
       "<div>\n",
       "<style scoped>\n",
       "    .dataframe tbody tr th:only-of-type {\n",
       "        vertical-align: middle;\n",
       "    }\n",
       "\n",
       "    .dataframe tbody tr th {\n",
       "        vertical-align: top;\n",
       "    }\n",
       "\n",
       "    .dataframe thead th {\n",
       "        text-align: right;\n",
       "    }\n",
       "</style>\n",
       "<table border=\"1\" class=\"dataframe\">\n",
       "  <thead>\n",
       "    <tr style=\"text-align: right;\">\n",
       "      <th></th>\n",
       "      <th>거래처코드</th>\n",
       "      <th>제품코드</th>\n",
       "      <th>수주량</th>\n",
       "      <th>수주단가</th>\n",
       "      <th>수주금액</th>\n",
       "      <th>수주일자</th>\n",
       "      <th>납기일자</th>\n",
       "    </tr>\n",
       "  </thead>\n",
       "  <tbody>\n",
       "    <tr>\n",
       "      <th>0</th>\n",
       "      <td>2001102</td>\n",
       "      <td>PEMA033101400</td>\n",
       "      <td>15000</td>\n",
       "      <td>1000</td>\n",
       "      <td>15000000</td>\n",
       "      <td>2021-02-22</td>\n",
       "      <td>2021-02-25</td>\n",
       "    </tr>\n",
       "    <tr>\n",
       "      <th>1</th>\n",
       "      <td>2001200</td>\n",
       "      <td>PEMA023098200</td>\n",
       "      <td>20000</td>\n",
       "      <td>1001</td>\n",
       "      <td>20020000</td>\n",
       "      <td>2021-02-22</td>\n",
       "      <td>2021-02-25</td>\n",
       "    </tr>\n",
       "    <tr>\n",
       "      <th>2</th>\n",
       "      <td>2001300</td>\n",
       "      <td>SSA073046500</td>\n",
       "      <td>2000</td>\n",
       "      <td>1002</td>\n",
       "      <td>2004000</td>\n",
       "      <td>2021-02-22</td>\n",
       "      <td>2021-02-25</td>\n",
       "    </tr>\n",
       "    <tr>\n",
       "      <th>3</th>\n",
       "      <td>2001400</td>\n",
       "      <td>PEMA043099800</td>\n",
       "      <td>10000</td>\n",
       "      <td>1003</td>\n",
       "      <td>10030000</td>\n",
       "      <td>2021-02-22</td>\n",
       "      <td>2021-02-25</td>\n",
       "    </tr>\n",
       "    <tr>\n",
       "      <th>4</th>\n",
       "      <td>2001500</td>\n",
       "      <td>PEMA013120000</td>\n",
       "      <td>10000</td>\n",
       "      <td>1004</td>\n",
       "      <td>10040000</td>\n",
       "      <td>2021-02-22</td>\n",
       "      <td>2021-02-25</td>\n",
       "    </tr>\n",
       "  </tbody>\n",
       "</table>\n",
       "</div>"
      ],
      "text/plain": [
       "     거래처코드           제품코드    수주량  수주단가      수주금액       수주일자       납기일자\n",
       "0  2001102  PEMA033101400  15000  1000  15000000 2021-02-22 2021-02-25\n",
       "1  2001200  PEMA023098200  20000  1001  20020000 2021-02-22 2021-02-25\n",
       "2  2001300   SSA073046500   2000  1002   2004000 2021-02-22 2021-02-25\n",
       "3  2001400  PEMA043099800  10000  1003  10030000 2021-02-22 2021-02-25\n",
       "4  2001500  PEMA013120000  10000  1004  10040000 2021-02-22 2021-02-25"
      ]
     },
     "execution_count": 138,
     "metadata": {},
     "output_type": "execute_result"
    }
   ],
   "source": [
    "\n",
    "df_sale['수주일자'] = pd.to_datetime(df_sale['수주일자'])\n",
    "df_sale['납기일자'] = pd.to_datetime(df_sale['납기일자'])\n",
    "\n",
    "df_sale.head()"
   ]
  },
  {
   "cell_type": "code",
   "execution_count": 139,
   "id": "aa783eb7",
   "metadata": {},
   "outputs": [
    {
     "data": {
      "text/html": [
       "<div>\n",
       "<style scoped>\n",
       "    .dataframe tbody tr th:only-of-type {\n",
       "        vertical-align: middle;\n",
       "    }\n",
       "\n",
       "    .dataframe tbody tr th {\n",
       "        vertical-align: top;\n",
       "    }\n",
       "\n",
       "    .dataframe thead th {\n",
       "        text-align: right;\n",
       "    }\n",
       "</style>\n",
       "<table border=\"1\" class=\"dataframe\">\n",
       "  <thead>\n",
       "    <tr style=\"text-align: right;\">\n",
       "      <th></th>\n",
       "      <th>거래처코드</th>\n",
       "      <th>제품코드</th>\n",
       "      <th>수주량</th>\n",
       "      <th>수주단가</th>\n",
       "      <th>수주금액</th>\n",
       "      <th>수주일자</th>\n",
       "      <th>납기일자</th>\n",
       "    </tr>\n",
       "  </thead>\n",
       "  <tbody>\n",
       "    <tr>\n",
       "      <th>0</th>\n",
       "      <td>2001102</td>\n",
       "      <td>PEMA033101400</td>\n",
       "      <td>15000</td>\n",
       "      <td>1000</td>\n",
       "      <td>15000000</td>\n",
       "      <td>2021-02-22</td>\n",
       "      <td>2021-02-25</td>\n",
       "    </tr>\n",
       "    <tr>\n",
       "      <th>1</th>\n",
       "      <td>2001200</td>\n",
       "      <td>PEMA023098200</td>\n",
       "      <td>20000</td>\n",
       "      <td>1001</td>\n",
       "      <td>20020000</td>\n",
       "      <td>2021-02-22</td>\n",
       "      <td>2021-02-25</td>\n",
       "    </tr>\n",
       "    <tr>\n",
       "      <th>2</th>\n",
       "      <td>2001300</td>\n",
       "      <td>SSA073046500</td>\n",
       "      <td>2000</td>\n",
       "      <td>1002</td>\n",
       "      <td>2004000</td>\n",
       "      <td>2021-02-22</td>\n",
       "      <td>2021-02-25</td>\n",
       "    </tr>\n",
       "    <tr>\n",
       "      <th>3</th>\n",
       "      <td>2001400</td>\n",
       "      <td>PEMA043099800</td>\n",
       "      <td>10000</td>\n",
       "      <td>1003</td>\n",
       "      <td>10030000</td>\n",
       "      <td>2021-02-22</td>\n",
       "      <td>2021-02-25</td>\n",
       "    </tr>\n",
       "    <tr>\n",
       "      <th>4</th>\n",
       "      <td>2001500</td>\n",
       "      <td>PEMA013120000</td>\n",
       "      <td>10000</td>\n",
       "      <td>1004</td>\n",
       "      <td>10040000</td>\n",
       "      <td>2021-02-22</td>\n",
       "      <td>2021-02-25</td>\n",
       "    </tr>\n",
       "    <tr>\n",
       "      <th>...</th>\n",
       "      <td>...</td>\n",
       "      <td>...</td>\n",
       "      <td>...</td>\n",
       "      <td>...</td>\n",
       "      <td>...</td>\n",
       "      <td>...</td>\n",
       "      <td>...</td>\n",
       "    </tr>\n",
       "    <tr>\n",
       "      <th>1714</th>\n",
       "      <td>2007400</td>\n",
       "      <td>PEMA043103800</td>\n",
       "      <td>10000</td>\n",
       "      <td>2714</td>\n",
       "      <td>27140000</td>\n",
       "      <td>2021-04-21</td>\n",
       "      <td>2021-04-24</td>\n",
       "    </tr>\n",
       "    <tr>\n",
       "      <th>1715</th>\n",
       "      <td>2007500</td>\n",
       "      <td>PEMA023122400</td>\n",
       "      <td>8000</td>\n",
       "      <td>2715</td>\n",
       "      <td>21720000</td>\n",
       "      <td>2021-04-21</td>\n",
       "      <td>2021-04-24</td>\n",
       "    </tr>\n",
       "    <tr>\n",
       "      <th>1716</th>\n",
       "      <td>2007600</td>\n",
       "      <td>PEMA353048300</td>\n",
       "      <td>7000</td>\n",
       "      <td>2716</td>\n",
       "      <td>19012000</td>\n",
       "      <td>2021-04-21</td>\n",
       "      <td>2021-04-24</td>\n",
       "    </tr>\n",
       "    <tr>\n",
       "      <th>1717</th>\n",
       "      <td>2007700</td>\n",
       "      <td>TSN4012011125</td>\n",
       "      <td>10000</td>\n",
       "      <td>2717</td>\n",
       "      <td>27170000</td>\n",
       "      <td>2021-04-21</td>\n",
       "      <td>2021-04-24</td>\n",
       "    </tr>\n",
       "    <tr>\n",
       "      <th>1718</th>\n",
       "      <td>2007800</td>\n",
       "      <td>PEMA013123000</td>\n",
       "      <td>10000</td>\n",
       "      <td>2718</td>\n",
       "      <td>27180000</td>\n",
       "      <td>2021-04-21</td>\n",
       "      <td>2021-04-24</td>\n",
       "    </tr>\n",
       "  </tbody>\n",
       "</table>\n",
       "<p>1719 rows × 7 columns</p>\n",
       "</div>"
      ],
      "text/plain": [
       "        거래처코드           제품코드    수주량  수주단가      수주금액       수주일자       납기일자\n",
       "0     2001102  PEMA033101400  15000  1000  15000000 2021-02-22 2021-02-25\n",
       "1     2001200  PEMA023098200  20000  1001  20020000 2021-02-22 2021-02-25\n",
       "2     2001300   SSA073046500   2000  1002   2004000 2021-02-22 2021-02-25\n",
       "3     2001400  PEMA043099800  10000  1003  10030000 2021-02-22 2021-02-25\n",
       "4     2001500  PEMA013120000  10000  1004  10040000 2021-02-22 2021-02-25\n",
       "...       ...            ...    ...   ...       ...        ...        ...\n",
       "1714  2007400  PEMA043103800  10000  2714  27140000 2021-04-21 2021-04-24\n",
       "1715  2007500  PEMA023122400   8000  2715  21720000 2021-04-21 2021-04-24\n",
       "1716  2007600  PEMA353048300   7000  2716  19012000 2021-04-21 2021-04-24\n",
       "1717  2007700  TSN4012011125  10000  2717  27170000 2021-04-21 2021-04-24\n",
       "1718  2007800  PEMA013123000  10000  2718  27180000 2021-04-21 2021-04-24\n",
       "\n",
       "[1719 rows x 7 columns]"
      ]
     },
     "execution_count": 139,
     "metadata": {},
     "output_type": "execute_result"
    }
   ],
   "source": [
    "df_sale"
   ]
  },
  {
   "cell_type": "code",
   "execution_count": 140,
   "id": "0fe009a3",
   "metadata": {},
   "outputs": [],
   "source": [
    "from datetime import datetime, timedelta\n",
    "from dateutil.relativedelta import relativedelta\n",
    "\n",
    "# 날짜 계산 함수(년, 월, 일)\n",
    "def date_add(x, time, time_delta):\n",
    "    if time == 'd':\n",
    "        return x + relativedelta(days = time_delta)\n",
    "    elif time == 'm':\n",
    "        return x + relativedelta(months = time_delta)\n",
    "    elif time == 'y':\n",
    "        return x + relativedelta(years = time_delta)\n",
    "    else:\n",
    "        return x"
   ]
  },
  {
   "cell_type": "code",
   "execution_count": 141,
   "id": "e0e05606",
   "metadata": {},
   "outputs": [],
   "source": [
    "# 1~3월 데이터\n",
    "df_sale13 = df_sale.copy()\n",
    "\n",
    "df_sale13['수주일자'] = df_sale13.apply(lambda x: date_add(x['수주일자'],'m',-1), axis=1)\n",
    "df_sale13['납기일자'] = df_sale13.apply(lambda x: date_add(x['납기일자'],'m',-1), axis=1)"
   ]
  },
  {
   "cell_type": "code",
   "execution_count": 142,
   "id": "c2132ecb",
   "metadata": {},
   "outputs": [
    {
     "data": {
      "text/html": [
       "<div>\n",
       "<style scoped>\n",
       "    .dataframe tbody tr th:only-of-type {\n",
       "        vertical-align: middle;\n",
       "    }\n",
       "\n",
       "    .dataframe tbody tr th {\n",
       "        vertical-align: top;\n",
       "    }\n",
       "\n",
       "    .dataframe thead th {\n",
       "        text-align: right;\n",
       "    }\n",
       "</style>\n",
       "<table border=\"1\" class=\"dataframe\">\n",
       "  <thead>\n",
       "    <tr style=\"text-align: right;\">\n",
       "      <th></th>\n",
       "      <th>거래처코드</th>\n",
       "      <th>제품코드</th>\n",
       "      <th>수주량</th>\n",
       "      <th>수주단가</th>\n",
       "      <th>수주금액</th>\n",
       "      <th>수주일자</th>\n",
       "      <th>납기일자</th>\n",
       "    </tr>\n",
       "  </thead>\n",
       "  <tbody>\n",
       "    <tr>\n",
       "      <th>0</th>\n",
       "      <td>2001102</td>\n",
       "      <td>PEMA033101400</td>\n",
       "      <td>15000</td>\n",
       "      <td>1000</td>\n",
       "      <td>15000000</td>\n",
       "      <td>2021-01-01</td>\n",
       "      <td>2021-01-04</td>\n",
       "    </tr>\n",
       "    <tr>\n",
       "      <th>1</th>\n",
       "      <td>2001200</td>\n",
       "      <td>PEMA023098200</td>\n",
       "      <td>20000</td>\n",
       "      <td>1001</td>\n",
       "      <td>20020000</td>\n",
       "      <td>2021-01-01</td>\n",
       "      <td>2021-01-04</td>\n",
       "    </tr>\n",
       "    <tr>\n",
       "      <th>2</th>\n",
       "      <td>2001300</td>\n",
       "      <td>SSA073046500</td>\n",
       "      <td>2000</td>\n",
       "      <td>1002</td>\n",
       "      <td>2004000</td>\n",
       "      <td>2021-01-01</td>\n",
       "      <td>2021-01-04</td>\n",
       "    </tr>\n",
       "    <tr>\n",
       "      <th>3</th>\n",
       "      <td>2001400</td>\n",
       "      <td>PEMA043099800</td>\n",
       "      <td>10000</td>\n",
       "      <td>1003</td>\n",
       "      <td>10030000</td>\n",
       "      <td>2021-01-01</td>\n",
       "      <td>2021-01-04</td>\n",
       "    </tr>\n",
       "    <tr>\n",
       "      <th>4</th>\n",
       "      <td>2001500</td>\n",
       "      <td>PEMA013120000</td>\n",
       "      <td>10000</td>\n",
       "      <td>1004</td>\n",
       "      <td>10040000</td>\n",
       "      <td>2021-01-01</td>\n",
       "      <td>2021-01-04</td>\n",
       "    </tr>\n",
       "  </tbody>\n",
       "</table>\n",
       "</div>"
      ],
      "text/plain": [
       "     거래처코드           제품코드    수주량  수주단가      수주금액       수주일자       납기일자\n",
       "0  2001102  PEMA033101400  15000  1000  15000000 2021-01-01 2021-01-04\n",
       "1  2001200  PEMA023098200  20000  1001  20020000 2021-01-01 2021-01-04\n",
       "2  2001300   SSA073046500   2000  1002   2004000 2021-01-01 2021-01-04\n",
       "3  2001400  PEMA043099800  10000  1003  10030000 2021-01-01 2021-01-04\n",
       "4  2001500  PEMA013120000  10000  1004  10040000 2021-01-01 2021-01-04"
      ]
     },
     "execution_count": 142,
     "metadata": {},
     "output_type": "execute_result"
    }
   ],
   "source": [
    "df_sale13['수주일자'] = df_sale13.apply(lambda x: date_add(x['수주일자'],'d',-21), axis=1)\n",
    "df_sale13['납기일자'] = df_sale13.apply(lambda x: date_add(x['납기일자'],'d',-21), axis=1)\n",
    "\n",
    "df_sale13.head()"
   ]
  },
  {
   "cell_type": "code",
   "execution_count": 143,
   "id": "bc41eb3a",
   "metadata": {},
   "outputs": [],
   "source": [
    "df_sale13=df_sale13[df_sale13['수주일자'] < '2021-02-22']"
   ]
  },
  {
   "cell_type": "code",
   "execution_count": 144,
   "id": "fd2d7577",
   "metadata": {},
   "outputs": [
    {
     "data": {
      "text/html": [
       "<div>\n",
       "<style scoped>\n",
       "    .dataframe tbody tr th:only-of-type {\n",
       "        vertical-align: middle;\n",
       "    }\n",
       "\n",
       "    .dataframe tbody tr th {\n",
       "        vertical-align: top;\n",
       "    }\n",
       "\n",
       "    .dataframe thead th {\n",
       "        text-align: right;\n",
       "    }\n",
       "</style>\n",
       "<table border=\"1\" class=\"dataframe\">\n",
       "  <thead>\n",
       "    <tr style=\"text-align: right;\">\n",
       "      <th></th>\n",
       "      <th>거래처코드</th>\n",
       "      <th>제품코드</th>\n",
       "      <th>수주량</th>\n",
       "      <th>수주단가</th>\n",
       "      <th>수주금액</th>\n",
       "      <th>수주일자</th>\n",
       "      <th>납기일자</th>\n",
       "    </tr>\n",
       "  </thead>\n",
       "  <tbody>\n",
       "    <tr>\n",
       "      <th>0</th>\n",
       "      <td>2001102</td>\n",
       "      <td>PEMA033101400</td>\n",
       "      <td>15000</td>\n",
       "      <td>1000</td>\n",
       "      <td>15000000</td>\n",
       "      <td>2021-04-22</td>\n",
       "      <td>2021-04-25</td>\n",
       "    </tr>\n",
       "    <tr>\n",
       "      <th>1</th>\n",
       "      <td>2001200</td>\n",
       "      <td>PEMA023098200</td>\n",
       "      <td>20000</td>\n",
       "      <td>1001</td>\n",
       "      <td>20020000</td>\n",
       "      <td>2021-04-22</td>\n",
       "      <td>2021-04-25</td>\n",
       "    </tr>\n",
       "    <tr>\n",
       "      <th>2</th>\n",
       "      <td>2001300</td>\n",
       "      <td>SSA073046500</td>\n",
       "      <td>2000</td>\n",
       "      <td>1002</td>\n",
       "      <td>2004000</td>\n",
       "      <td>2021-04-22</td>\n",
       "      <td>2021-04-25</td>\n",
       "    </tr>\n",
       "    <tr>\n",
       "      <th>3</th>\n",
       "      <td>2001400</td>\n",
       "      <td>PEMA043099800</td>\n",
       "      <td>10000</td>\n",
       "      <td>1003</td>\n",
       "      <td>10030000</td>\n",
       "      <td>2021-04-22</td>\n",
       "      <td>2021-04-25</td>\n",
       "    </tr>\n",
       "    <tr>\n",
       "      <th>4</th>\n",
       "      <td>2001500</td>\n",
       "      <td>PEMA013120000</td>\n",
       "      <td>10000</td>\n",
       "      <td>1004</td>\n",
       "      <td>10040000</td>\n",
       "      <td>2021-04-22</td>\n",
       "      <td>2021-04-25</td>\n",
       "    </tr>\n",
       "  </tbody>\n",
       "</table>\n",
       "</div>"
      ],
      "text/plain": [
       "     거래처코드           제품코드    수주량  수주단가      수주금액       수주일자       납기일자\n",
       "0  2001102  PEMA033101400  15000  1000  15000000 2021-04-22 2021-04-25\n",
       "1  2001200  PEMA023098200  20000  1001  20020000 2021-04-22 2021-04-25\n",
       "2  2001300   SSA073046500   2000  1002   2004000 2021-04-22 2021-04-25\n",
       "3  2001400  PEMA043099800  10000  1003  10030000 2021-04-22 2021-04-25\n",
       "4  2001500  PEMA013120000  10000  1004  10040000 2021-04-22 2021-04-25"
      ]
     },
     "execution_count": 144,
     "metadata": {},
     "output_type": "execute_result"
    }
   ],
   "source": [
    "# 4~6월 데이터\n",
    "df_sale46 = df_sale.copy()\n",
    "\n",
    "df_sale46['수주일자'] = df_sale46.apply(lambda x: date_add(x['수주일자'],'m',2), axis=1)\n",
    "df_sale46['납기일자'] = df_sale46.apply(lambda x: date_add(x['납기일자'],'m',2), axis=1)\n",
    "\n",
    "df_sale46.head()"
   ]
  },
  {
   "cell_type": "code",
   "execution_count": 145,
   "id": "36c7d429",
   "metadata": {},
   "outputs": [
    {
     "data": {
      "text/html": [
       "<div>\n",
       "<style scoped>\n",
       "    .dataframe tbody tr th:only-of-type {\n",
       "        vertical-align: middle;\n",
       "    }\n",
       "\n",
       "    .dataframe tbody tr th {\n",
       "        vertical-align: top;\n",
       "    }\n",
       "\n",
       "    .dataframe thead th {\n",
       "        text-align: right;\n",
       "    }\n",
       "</style>\n",
       "<table border=\"1\" class=\"dataframe\">\n",
       "  <thead>\n",
       "    <tr style=\"text-align: right;\">\n",
       "      <th></th>\n",
       "      <th>거래처코드</th>\n",
       "      <th>제품코드</th>\n",
       "      <th>수주량</th>\n",
       "      <th>수주단가</th>\n",
       "      <th>수주금액</th>\n",
       "      <th>수주일자</th>\n",
       "      <th>납기일자</th>\n",
       "    </tr>\n",
       "  </thead>\n",
       "  <tbody>\n",
       "    <tr>\n",
       "      <th>0</th>\n",
       "      <td>2001102</td>\n",
       "      <td>PEMA033101400</td>\n",
       "      <td>15000</td>\n",
       "      <td>1000</td>\n",
       "      <td>15000000</td>\n",
       "      <td>2021-06-22</td>\n",
       "      <td>2021-06-25</td>\n",
       "    </tr>\n",
       "    <tr>\n",
       "      <th>1</th>\n",
       "      <td>2001200</td>\n",
       "      <td>PEMA023098200</td>\n",
       "      <td>20000</td>\n",
       "      <td>1001</td>\n",
       "      <td>20020000</td>\n",
       "      <td>2021-06-22</td>\n",
       "      <td>2021-06-25</td>\n",
       "    </tr>\n",
       "    <tr>\n",
       "      <th>2</th>\n",
       "      <td>2001300</td>\n",
       "      <td>SSA073046500</td>\n",
       "      <td>2000</td>\n",
       "      <td>1002</td>\n",
       "      <td>2004000</td>\n",
       "      <td>2021-06-22</td>\n",
       "      <td>2021-06-25</td>\n",
       "    </tr>\n",
       "    <tr>\n",
       "      <th>3</th>\n",
       "      <td>2001400</td>\n",
       "      <td>PEMA043099800</td>\n",
       "      <td>10000</td>\n",
       "      <td>1003</td>\n",
       "      <td>10030000</td>\n",
       "      <td>2021-06-22</td>\n",
       "      <td>2021-06-25</td>\n",
       "    </tr>\n",
       "    <tr>\n",
       "      <th>4</th>\n",
       "      <td>2001500</td>\n",
       "      <td>PEMA013120000</td>\n",
       "      <td>10000</td>\n",
       "      <td>1004</td>\n",
       "      <td>10040000</td>\n",
       "      <td>2021-06-22</td>\n",
       "      <td>2021-06-25</td>\n",
       "    </tr>\n",
       "  </tbody>\n",
       "</table>\n",
       "</div>"
      ],
      "text/plain": [
       "     거래처코드           제품코드    수주량  수주단가      수주금액       수주일자       납기일자\n",
       "0  2001102  PEMA033101400  15000  1000  15000000 2021-06-22 2021-06-25\n",
       "1  2001200  PEMA023098200  20000  1001  20020000 2021-06-22 2021-06-25\n",
       "2  2001300   SSA073046500   2000  1002   2004000 2021-06-22 2021-06-25\n",
       "3  2001400  PEMA043099800  10000  1003  10030000 2021-06-22 2021-06-25\n",
       "4  2001500  PEMA013120000  10000  1004  10040000 2021-06-22 2021-06-25"
      ]
     },
     "execution_count": 145,
     "metadata": {},
     "output_type": "execute_result"
    }
   ],
   "source": [
    "# 6월~8월 데이터\n",
    "df_sale68 = df_sale46.copy()\n",
    "\n",
    "df_sale68['수주일자'] = df_sale68.apply(lambda x: date_add(x['수주일자'],'m',2), axis=1)\n",
    "df_sale68['납기일자'] = df_sale68.apply(lambda x: date_add(x['납기일자'],'m',2), axis=1)\n",
    "\n",
    "df_sale68.head()"
   ]
  },
  {
   "cell_type": "code",
   "execution_count": 146,
   "id": "6c8ccba5",
   "metadata": {},
   "outputs": [
    {
     "data": {
      "text/html": [
       "<div>\n",
       "<style scoped>\n",
       "    .dataframe tbody tr th:only-of-type {\n",
       "        vertical-align: middle;\n",
       "    }\n",
       "\n",
       "    .dataframe tbody tr th {\n",
       "        vertical-align: top;\n",
       "    }\n",
       "\n",
       "    .dataframe thead th {\n",
       "        text-align: right;\n",
       "    }\n",
       "</style>\n",
       "<table border=\"1\" class=\"dataframe\">\n",
       "  <thead>\n",
       "    <tr style=\"text-align: right;\">\n",
       "      <th></th>\n",
       "      <th>거래처코드</th>\n",
       "      <th>제품코드</th>\n",
       "      <th>수주량</th>\n",
       "      <th>수주단가</th>\n",
       "      <th>수주금액</th>\n",
       "      <th>수주일자</th>\n",
       "      <th>납기일자</th>\n",
       "    </tr>\n",
       "  </thead>\n",
       "  <tbody>\n",
       "    <tr>\n",
       "      <th>0</th>\n",
       "      <td>2001102</td>\n",
       "      <td>PEMA033101400</td>\n",
       "      <td>15000</td>\n",
       "      <td>1000</td>\n",
       "      <td>15000000</td>\n",
       "      <td>2021-08-22</td>\n",
       "      <td>2021-08-25</td>\n",
       "    </tr>\n",
       "    <tr>\n",
       "      <th>1</th>\n",
       "      <td>2001200</td>\n",
       "      <td>PEMA023098200</td>\n",
       "      <td>20000</td>\n",
       "      <td>1001</td>\n",
       "      <td>20020000</td>\n",
       "      <td>2021-08-22</td>\n",
       "      <td>2021-08-25</td>\n",
       "    </tr>\n",
       "    <tr>\n",
       "      <th>2</th>\n",
       "      <td>2001300</td>\n",
       "      <td>SSA073046500</td>\n",
       "      <td>2000</td>\n",
       "      <td>1002</td>\n",
       "      <td>2004000</td>\n",
       "      <td>2021-08-22</td>\n",
       "      <td>2021-08-25</td>\n",
       "    </tr>\n",
       "    <tr>\n",
       "      <th>3</th>\n",
       "      <td>2001400</td>\n",
       "      <td>PEMA043099800</td>\n",
       "      <td>10000</td>\n",
       "      <td>1003</td>\n",
       "      <td>10030000</td>\n",
       "      <td>2021-08-22</td>\n",
       "      <td>2021-08-25</td>\n",
       "    </tr>\n",
       "    <tr>\n",
       "      <th>4</th>\n",
       "      <td>2001500</td>\n",
       "      <td>PEMA013120000</td>\n",
       "      <td>10000</td>\n",
       "      <td>1004</td>\n",
       "      <td>10040000</td>\n",
       "      <td>2021-08-22</td>\n",
       "      <td>2021-08-25</td>\n",
       "    </tr>\n",
       "  </tbody>\n",
       "</table>\n",
       "</div>"
      ],
      "text/plain": [
       "     거래처코드           제품코드    수주량  수주단가      수주금액       수주일자       납기일자\n",
       "0  2001102  PEMA033101400  15000  1000  15000000 2021-08-22 2021-08-25\n",
       "1  2001200  PEMA023098200  20000  1001  20020000 2021-08-22 2021-08-25\n",
       "2  2001300   SSA073046500   2000  1002   2004000 2021-08-22 2021-08-25\n",
       "3  2001400  PEMA043099800  10000  1003  10030000 2021-08-22 2021-08-25\n",
       "4  2001500  PEMA013120000  10000  1004  10040000 2021-08-22 2021-08-25"
      ]
     },
     "execution_count": 146,
     "metadata": {},
     "output_type": "execute_result"
    }
   ],
   "source": [
    "# 8월~10월 데이터\n",
    "df_sale810 = df_sale68.copy()\n",
    "\n",
    "df_sale810['수주일자'] = df_sale810.apply(lambda x: date_add(x['수주일자'],'m',2), axis=1)\n",
    "df_sale810['납기일자'] = df_sale810.apply(lambda x: date_add(x['납기일자'],'m',2), axis=1)\n",
    "\n",
    "df_sale810.head()"
   ]
  },
  {
   "cell_type": "code",
   "execution_count": 147,
   "id": "33eeb6ca",
   "metadata": {},
   "outputs": [
    {
     "data": {
      "text/html": [
       "<div>\n",
       "<style scoped>\n",
       "    .dataframe tbody tr th:only-of-type {\n",
       "        vertical-align: middle;\n",
       "    }\n",
       "\n",
       "    .dataframe tbody tr th {\n",
       "        vertical-align: top;\n",
       "    }\n",
       "\n",
       "    .dataframe thead th {\n",
       "        text-align: right;\n",
       "    }\n",
       "</style>\n",
       "<table border=\"1\" class=\"dataframe\">\n",
       "  <thead>\n",
       "    <tr style=\"text-align: right;\">\n",
       "      <th></th>\n",
       "      <th>거래처코드</th>\n",
       "      <th>제품코드</th>\n",
       "      <th>수주량</th>\n",
       "      <th>수주단가</th>\n",
       "      <th>수주금액</th>\n",
       "      <th>수주일자</th>\n",
       "      <th>납기일자</th>\n",
       "    </tr>\n",
       "  </thead>\n",
       "  <tbody>\n",
       "    <tr>\n",
       "      <th>0</th>\n",
       "      <td>2001102</td>\n",
       "      <td>PEMA033101400</td>\n",
       "      <td>15000</td>\n",
       "      <td>1000</td>\n",
       "      <td>15000000</td>\n",
       "      <td>2021-10-22</td>\n",
       "      <td>2021-10-25</td>\n",
       "    </tr>\n",
       "    <tr>\n",
       "      <th>1</th>\n",
       "      <td>2001200</td>\n",
       "      <td>PEMA023098200</td>\n",
       "      <td>20000</td>\n",
       "      <td>1001</td>\n",
       "      <td>20020000</td>\n",
       "      <td>2021-10-22</td>\n",
       "      <td>2021-10-25</td>\n",
       "    </tr>\n",
       "    <tr>\n",
       "      <th>2</th>\n",
       "      <td>2001300</td>\n",
       "      <td>SSA073046500</td>\n",
       "      <td>2000</td>\n",
       "      <td>1002</td>\n",
       "      <td>2004000</td>\n",
       "      <td>2021-10-22</td>\n",
       "      <td>2021-10-25</td>\n",
       "    </tr>\n",
       "    <tr>\n",
       "      <th>3</th>\n",
       "      <td>2001400</td>\n",
       "      <td>PEMA043099800</td>\n",
       "      <td>10000</td>\n",
       "      <td>1003</td>\n",
       "      <td>10030000</td>\n",
       "      <td>2021-10-22</td>\n",
       "      <td>2021-10-25</td>\n",
       "    </tr>\n",
       "    <tr>\n",
       "      <th>4</th>\n",
       "      <td>2001500</td>\n",
       "      <td>PEMA013120000</td>\n",
       "      <td>10000</td>\n",
       "      <td>1004</td>\n",
       "      <td>10040000</td>\n",
       "      <td>2021-10-22</td>\n",
       "      <td>2021-10-25</td>\n",
       "    </tr>\n",
       "  </tbody>\n",
       "</table>\n",
       "</div>"
      ],
      "text/plain": [
       "     거래처코드           제품코드    수주량  수주단가      수주금액       수주일자       납기일자\n",
       "0  2001102  PEMA033101400  15000  1000  15000000 2021-10-22 2021-10-25\n",
       "1  2001200  PEMA023098200  20000  1001  20020000 2021-10-22 2021-10-25\n",
       "2  2001300   SSA073046500   2000  1002   2004000 2021-10-22 2021-10-25\n",
       "3  2001400  PEMA043099800  10000  1003  10030000 2021-10-22 2021-10-25\n",
       "4  2001500  PEMA013120000  10000  1004  10040000 2021-10-22 2021-10-25"
      ]
     },
     "execution_count": 147,
     "metadata": {},
     "output_type": "execute_result"
    }
   ],
   "source": [
    "# 10월~12월 데이터\n",
    "df_sale1012 = df_sale810.copy()\n",
    "\n",
    "df_sale1012['수주일자'] = df_sale1012.apply(lambda x: date_add(x['수주일자'],'m',2), axis=1)\n",
    "df_sale1012['납기일자'] = df_sale1012.apply(lambda x: date_add(x['납기일자'],'m',2), axis=1)\n",
    "\n",
    "df_sale1012.head()"
   ]
  },
  {
   "cell_type": "code",
   "execution_count": 148,
   "id": "f25630ae",
   "metadata": {},
   "outputs": [
    {
     "data": {
      "text/html": [
       "<div>\n",
       "<style scoped>\n",
       "    .dataframe tbody tr th:only-of-type {\n",
       "        vertical-align: middle;\n",
       "    }\n",
       "\n",
       "    .dataframe tbody tr th {\n",
       "        vertical-align: top;\n",
       "    }\n",
       "\n",
       "    .dataframe thead th {\n",
       "        text-align: right;\n",
       "    }\n",
       "</style>\n",
       "<table border=\"1\" class=\"dataframe\">\n",
       "  <thead>\n",
       "    <tr style=\"text-align: right;\">\n",
       "      <th></th>\n",
       "      <th>거래처코드</th>\n",
       "      <th>제품코드</th>\n",
       "      <th>수주량</th>\n",
       "      <th>수주단가</th>\n",
       "      <th>수주금액</th>\n",
       "      <th>수주일자</th>\n",
       "      <th>납기일자</th>\n",
       "    </tr>\n",
       "  </thead>\n",
       "  <tbody>\n",
       "    <tr>\n",
       "      <th>1714</th>\n",
       "      <td>2007400</td>\n",
       "      <td>PEMA043103800</td>\n",
       "      <td>10000</td>\n",
       "      <td>2714</td>\n",
       "      <td>27140000</td>\n",
       "      <td>2021-12-21</td>\n",
       "      <td>2021-12-24</td>\n",
       "    </tr>\n",
       "    <tr>\n",
       "      <th>1715</th>\n",
       "      <td>2007500</td>\n",
       "      <td>PEMA023122400</td>\n",
       "      <td>8000</td>\n",
       "      <td>2715</td>\n",
       "      <td>21720000</td>\n",
       "      <td>2021-12-21</td>\n",
       "      <td>2021-12-24</td>\n",
       "    </tr>\n",
       "    <tr>\n",
       "      <th>1716</th>\n",
       "      <td>2007600</td>\n",
       "      <td>PEMA353048300</td>\n",
       "      <td>7000</td>\n",
       "      <td>2716</td>\n",
       "      <td>19012000</td>\n",
       "      <td>2021-12-21</td>\n",
       "      <td>2021-12-24</td>\n",
       "    </tr>\n",
       "    <tr>\n",
       "      <th>1717</th>\n",
       "      <td>2007700</td>\n",
       "      <td>TSN4012011125</td>\n",
       "      <td>10000</td>\n",
       "      <td>2717</td>\n",
       "      <td>27170000</td>\n",
       "      <td>2021-12-21</td>\n",
       "      <td>2021-12-24</td>\n",
       "    </tr>\n",
       "    <tr>\n",
       "      <th>1718</th>\n",
       "      <td>2007800</td>\n",
       "      <td>PEMA013123000</td>\n",
       "      <td>10000</td>\n",
       "      <td>2718</td>\n",
       "      <td>27180000</td>\n",
       "      <td>2021-12-21</td>\n",
       "      <td>2021-12-24</td>\n",
       "    </tr>\n",
       "  </tbody>\n",
       "</table>\n",
       "</div>"
      ],
      "text/plain": [
       "        거래처코드           제품코드    수주량  수주단가      수주금액       수주일자       납기일자\n",
       "1714  2007400  PEMA043103800  10000  2714  27140000 2021-12-21 2021-12-24\n",
       "1715  2007500  PEMA023122400   8000  2715  21720000 2021-12-21 2021-12-24\n",
       "1716  2007600  PEMA353048300   7000  2716  19012000 2021-12-21 2021-12-24\n",
       "1717  2007700  TSN4012011125  10000  2717  27170000 2021-12-21 2021-12-24\n",
       "1718  2007800  PEMA013123000  10000  2718  27180000 2021-12-21 2021-12-24"
      ]
     },
     "execution_count": 148,
     "metadata": {},
     "output_type": "execute_result"
    }
   ],
   "source": [
    "df_sale1012.tail()"
   ]
  },
  {
   "cell_type": "code",
   "execution_count": 149,
   "id": "3f0ac3d2",
   "metadata": {},
   "outputs": [
    {
     "data": {
      "text/html": [
       "<div>\n",
       "<style scoped>\n",
       "    .dataframe tbody tr th:only-of-type {\n",
       "        vertical-align: middle;\n",
       "    }\n",
       "\n",
       "    .dataframe tbody tr th {\n",
       "        vertical-align: top;\n",
       "    }\n",
       "\n",
       "    .dataframe thead th {\n",
       "        text-align: right;\n",
       "    }\n",
       "</style>\n",
       "<table border=\"1\" class=\"dataframe\">\n",
       "  <thead>\n",
       "    <tr style=\"text-align: right;\">\n",
       "      <th></th>\n",
       "      <th>거래처코드</th>\n",
       "      <th>제품코드</th>\n",
       "      <th>수주량</th>\n",
       "      <th>수주단가</th>\n",
       "      <th>수주금액</th>\n",
       "      <th>수주일자</th>\n",
       "      <th>납기일자</th>\n",
       "    </tr>\n",
       "  </thead>\n",
       "  <tbody>\n",
       "    <tr>\n",
       "      <th>0</th>\n",
       "      <td>2001102</td>\n",
       "      <td>PEMA033101400</td>\n",
       "      <td>15000</td>\n",
       "      <td>1000</td>\n",
       "      <td>15000000</td>\n",
       "      <td>2021-11-01</td>\n",
       "      <td>2021-11-04</td>\n",
       "    </tr>\n",
       "    <tr>\n",
       "      <th>1</th>\n",
       "      <td>2001200</td>\n",
       "      <td>PEMA023098200</td>\n",
       "      <td>20000</td>\n",
       "      <td>1001</td>\n",
       "      <td>20020000</td>\n",
       "      <td>2021-11-01</td>\n",
       "      <td>2021-11-04</td>\n",
       "    </tr>\n",
       "    <tr>\n",
       "      <th>2</th>\n",
       "      <td>2001300</td>\n",
       "      <td>SSA073046500</td>\n",
       "      <td>2000</td>\n",
       "      <td>1002</td>\n",
       "      <td>2004000</td>\n",
       "      <td>2021-11-01</td>\n",
       "      <td>2021-11-04</td>\n",
       "    </tr>\n",
       "    <tr>\n",
       "      <th>3</th>\n",
       "      <td>2001400</td>\n",
       "      <td>PEMA043099800</td>\n",
       "      <td>10000</td>\n",
       "      <td>1003</td>\n",
       "      <td>10030000</td>\n",
       "      <td>2021-11-01</td>\n",
       "      <td>2021-11-04</td>\n",
       "    </tr>\n",
       "    <tr>\n",
       "      <th>4</th>\n",
       "      <td>2001500</td>\n",
       "      <td>PEMA013120000</td>\n",
       "      <td>10000</td>\n",
       "      <td>1004</td>\n",
       "      <td>10040000</td>\n",
       "      <td>2021-11-01</td>\n",
       "      <td>2021-11-04</td>\n",
       "    </tr>\n",
       "    <tr>\n",
       "      <th>5</th>\n",
       "      <td>2001600</td>\n",
       "      <td>PEMA013085300</td>\n",
       "      <td>10000</td>\n",
       "      <td>1005</td>\n",
       "      <td>10050000</td>\n",
       "      <td>2021-11-01</td>\n",
       "      <td>2021-11-04</td>\n",
       "    </tr>\n",
       "    <tr>\n",
       "      <th>6</th>\n",
       "      <td>2001700</td>\n",
       "      <td>PEMA023100800</td>\n",
       "      <td>10000</td>\n",
       "      <td>1006</td>\n",
       "      <td>10060000</td>\n",
       "      <td>2021-11-01</td>\n",
       "      <td>2021-11-04</td>\n",
       "    </tr>\n",
       "    <tr>\n",
       "      <th>7</th>\n",
       "      <td>2001800</td>\n",
       "      <td>PEMA023100800</td>\n",
       "      <td>10000</td>\n",
       "      <td>1007</td>\n",
       "      <td>10070000</td>\n",
       "      <td>2021-11-01</td>\n",
       "      <td>2021-11-04</td>\n",
       "    </tr>\n",
       "    <tr>\n",
       "      <th>8</th>\n",
       "      <td>2002000</td>\n",
       "      <td>PEMA013131100</td>\n",
       "      <td>10000</td>\n",
       "      <td>1008</td>\n",
       "      <td>10080000</td>\n",
       "      <td>2021-11-01</td>\n",
       "      <td>2021-11-04</td>\n",
       "    </tr>\n",
       "    <tr>\n",
       "      <th>9</th>\n",
       "      <td>2002100</td>\n",
       "      <td>PEMA013000210</td>\n",
       "      <td>7000</td>\n",
       "      <td>1009</td>\n",
       "      <td>7063000</td>\n",
       "      <td>2021-11-01</td>\n",
       "      <td>2021-11-04</td>\n",
       "    </tr>\n",
       "  </tbody>\n",
       "</table>\n",
       "</div>"
      ],
      "text/plain": [
       "     거래처코드           제품코드    수주량  수주단가      수주금액       수주일자       납기일자\n",
       "0  2001102  PEMA033101400  15000  1000  15000000 2021-11-01 2021-11-04\n",
       "1  2001200  PEMA023098200  20000  1001  20020000 2021-11-01 2021-11-04\n",
       "2  2001300   SSA073046500   2000  1002   2004000 2021-11-01 2021-11-04\n",
       "3  2001400  PEMA043099800  10000  1003  10030000 2021-11-01 2021-11-04\n",
       "4  2001500  PEMA013120000  10000  1004  10040000 2021-11-01 2021-11-04\n",
       "5  2001600  PEMA013085300  10000  1005  10050000 2021-11-01 2021-11-04\n",
       "6  2001700  PEMA023100800  10000  1006  10060000 2021-11-01 2021-11-04\n",
       "7  2001800  PEMA023100800  10000  1007  10070000 2021-11-01 2021-11-04\n",
       "8  2002000  PEMA013131100  10000  1008  10080000 2021-11-01 2021-11-04\n",
       "9  2002100  PEMA013000210   7000  1009   7063000 2021-11-01 2021-11-04"
      ]
     },
     "execution_count": 149,
     "metadata": {},
     "output_type": "execute_result"
    }
   ],
   "source": [
    "df_sale1012_1 = df_sale1012.copy()\n",
    "\n",
    "df_sale1012_1['수주일자'] = df_sale1012_1.apply(lambda x: date_add(x['수주일자'],'d',10), axis=1)\n",
    "df_sale1012_1['납기일자'] = df_sale1012_1.apply(lambda x: date_add(x['납기일자'],'d',10), axis=1)\n",
    "\n",
    "df_sale1012_1.head(10)"
   ]
  },
  {
   "cell_type": "code",
   "execution_count": 150,
   "id": "43862e89",
   "metadata": {},
   "outputs": [],
   "source": [
    "df_sale1012_1=df_sale1012_1[df_sale1012_1['수주일자'] > '2021-12-21']"
   ]
  },
  {
   "cell_type": "code",
   "execution_count": 151,
   "id": "5deadeb9",
   "metadata": {},
   "outputs": [],
   "source": [
    "from functools import reduce\n",
    "\n",
    "df_list = [df_sale13,df_sale,df_sale46,df_sale68,df_sale810,df_sale1012,df_sale1012_1]\n",
    "\n",
    "df_2021=reduce(lambda x,y : pd.concat([x,y]),df_list)"
   ]
  },
  {
   "cell_type": "code",
   "execution_count": 152,
   "id": "cc97682f",
   "metadata": {},
   "outputs": [
    {
     "data": {
      "text/html": [
       "<div>\n",
       "<style scoped>\n",
       "    .dataframe tbody tr th:only-of-type {\n",
       "        vertical-align: middle;\n",
       "    }\n",
       "\n",
       "    .dataframe tbody tr th {\n",
       "        vertical-align: top;\n",
       "    }\n",
       "\n",
       "    .dataframe thead th {\n",
       "        text-align: right;\n",
       "    }\n",
       "</style>\n",
       "<table border=\"1\" class=\"dataframe\">\n",
       "  <thead>\n",
       "    <tr style=\"text-align: right;\">\n",
       "      <th></th>\n",
       "      <th>거래처코드</th>\n",
       "      <th>제품코드</th>\n",
       "      <th>수주량</th>\n",
       "      <th>수주단가</th>\n",
       "      <th>수주금액</th>\n",
       "      <th>수주일자</th>\n",
       "      <th>납기일자</th>\n",
       "    </tr>\n",
       "  </thead>\n",
       "  <tbody>\n",
       "    <tr>\n",
       "      <th>0</th>\n",
       "      <td>2001102</td>\n",
       "      <td>PEMA033101400</td>\n",
       "      <td>15000</td>\n",
       "      <td>1000</td>\n",
       "      <td>15000000</td>\n",
       "      <td>2020-01-01</td>\n",
       "      <td>2020-01-04</td>\n",
       "    </tr>\n",
       "    <tr>\n",
       "      <th>1</th>\n",
       "      <td>2001200</td>\n",
       "      <td>PEMA023098200</td>\n",
       "      <td>20000</td>\n",
       "      <td>1001</td>\n",
       "      <td>20020000</td>\n",
       "      <td>2020-01-01</td>\n",
       "      <td>2020-01-04</td>\n",
       "    </tr>\n",
       "    <tr>\n",
       "      <th>2</th>\n",
       "      <td>2001300</td>\n",
       "      <td>SSA073046500</td>\n",
       "      <td>2000</td>\n",
       "      <td>1002</td>\n",
       "      <td>2004000</td>\n",
       "      <td>2020-01-01</td>\n",
       "      <td>2020-01-04</td>\n",
       "    </tr>\n",
       "    <tr>\n",
       "      <th>3</th>\n",
       "      <td>2001400</td>\n",
       "      <td>PEMA043099800</td>\n",
       "      <td>10000</td>\n",
       "      <td>1003</td>\n",
       "      <td>10030000</td>\n",
       "      <td>2020-01-01</td>\n",
       "      <td>2020-01-04</td>\n",
       "    </tr>\n",
       "    <tr>\n",
       "      <th>4</th>\n",
       "      <td>2001500</td>\n",
       "      <td>PEMA013120000</td>\n",
       "      <td>10000</td>\n",
       "      <td>1004</td>\n",
       "      <td>10040000</td>\n",
       "      <td>2020-01-01</td>\n",
       "      <td>2020-01-04</td>\n",
       "    </tr>\n",
       "    <tr>\n",
       "      <th>...</th>\n",
       "      <td>...</td>\n",
       "      <td>...</td>\n",
       "      <td>...</td>\n",
       "      <td>...</td>\n",
       "      <td>...</td>\n",
       "      <td>...</td>\n",
       "      <td>...</td>\n",
       "    </tr>\n",
       "    <tr>\n",
       "      <th>1714</th>\n",
       "      <td>2007400</td>\n",
       "      <td>PEMA043103800</td>\n",
       "      <td>10000</td>\n",
       "      <td>2714</td>\n",
       "      <td>27140000</td>\n",
       "      <td>2020-12-31</td>\n",
       "      <td>2021-01-03</td>\n",
       "    </tr>\n",
       "    <tr>\n",
       "      <th>1715</th>\n",
       "      <td>2007500</td>\n",
       "      <td>PEMA023122400</td>\n",
       "      <td>8000</td>\n",
       "      <td>2715</td>\n",
       "      <td>21720000</td>\n",
       "      <td>2020-12-31</td>\n",
       "      <td>2021-01-03</td>\n",
       "    </tr>\n",
       "    <tr>\n",
       "      <th>1716</th>\n",
       "      <td>2007600</td>\n",
       "      <td>PEMA353048300</td>\n",
       "      <td>7000</td>\n",
       "      <td>2716</td>\n",
       "      <td>19012000</td>\n",
       "      <td>2020-12-31</td>\n",
       "      <td>2021-01-03</td>\n",
       "    </tr>\n",
       "    <tr>\n",
       "      <th>1717</th>\n",
       "      <td>2007700</td>\n",
       "      <td>TSN4012011125</td>\n",
       "      <td>10000</td>\n",
       "      <td>2717</td>\n",
       "      <td>27170000</td>\n",
       "      <td>2020-12-31</td>\n",
       "      <td>2021-01-03</td>\n",
       "    </tr>\n",
       "    <tr>\n",
       "      <th>1718</th>\n",
       "      <td>2007800</td>\n",
       "      <td>PEMA013123000</td>\n",
       "      <td>10000</td>\n",
       "      <td>2718</td>\n",
       "      <td>27180000</td>\n",
       "      <td>2020-12-31</td>\n",
       "      <td>2021-01-03</td>\n",
       "    </tr>\n",
       "  </tbody>\n",
       "</table>\n",
       "<p>10434 rows × 7 columns</p>\n",
       "</div>"
      ],
      "text/plain": [
       "        거래처코드           제품코드    수주량  수주단가      수주금액       수주일자       납기일자\n",
       "0     2001102  PEMA033101400  15000  1000  15000000 2020-01-01 2020-01-04\n",
       "1     2001200  PEMA023098200  20000  1001  20020000 2020-01-01 2020-01-04\n",
       "2     2001300   SSA073046500   2000  1002   2004000 2020-01-01 2020-01-04\n",
       "3     2001400  PEMA043099800  10000  1003  10030000 2020-01-01 2020-01-04\n",
       "4     2001500  PEMA013120000  10000  1004  10040000 2020-01-01 2020-01-04\n",
       "...       ...            ...    ...   ...       ...        ...        ...\n",
       "1714  2007400  PEMA043103800  10000  2714  27140000 2020-12-31 2021-01-03\n",
       "1715  2007500  PEMA023122400   8000  2715  21720000 2020-12-31 2021-01-03\n",
       "1716  2007600  PEMA353048300   7000  2716  19012000 2020-12-31 2021-01-03\n",
       "1717  2007700  TSN4012011125  10000  2717  27170000 2020-12-31 2021-01-03\n",
       "1718  2007800  PEMA013123000  10000  2718  27180000 2020-12-31 2021-01-03\n",
       "\n",
       "[10434 rows x 7 columns]"
      ]
     },
     "execution_count": 152,
     "metadata": {},
     "output_type": "execute_result"
    }
   ],
   "source": [
    "\n",
    "df_2020 = df_2021.copy()\n",
    "\n",
    "df_2020['수주일자'] = df_2020.apply(lambda x: date_add(x['수주일자'],'y',-1), axis=1)\n",
    "df_2020['납기일자'] = df_2020.apply(lambda x: date_add(x['납기일자'],'y',-1), axis=1)\n",
    "\n",
    "df_2020"
   ]
  },
  {
   "cell_type": "code",
   "execution_count": 155,
   "id": "766eff92",
   "metadata": {},
   "outputs": [],
   "source": [
    "# # csv 파일\n",
    "# df_2021.to_csv('영업수주_2021_1년.csv')"
   ]
  },
  {
   "cell_type": "code",
   "execution_count": 156,
   "id": "4e321c27",
   "metadata": {
    "scrolled": true
   },
   "outputs": [],
   "source": [
    "# # csv 파일\n",
    "# df_2020.to_csv('영업수주_2020_1년.csv')"
   ]
  },
  {
   "cell_type": "markdown",
   "id": "22f21ee1",
   "metadata": {},
   "source": [
    "### 21년도 증식 데이터 편집"
   ]
  },
  {
   "cell_type": "code",
   "execution_count": 1,
   "id": "4b50d467",
   "metadata": {},
   "outputs": [],
   "source": [
    "import pandas as pd\n",
    "\n",
    "sale_df21 = pd.read_csv('./영업수주_2021_1년.csv', index_col=0)\n",
    "sale_df20 = pd.read_csv('./영업수주_2020_1년.csv', index_col=0)\n",
    "add_mi = pd.read_csv('./시멘트2년 국내출하(월별증감율).csv')\n",
    "# sale_df21"
   ]
  },
  {
   "cell_type": "code",
   "execution_count": 8,
   "id": "f8b22ab9",
   "metadata": {},
   "outputs": [],
   "source": [
    "productnm = pd.read_csv('./제품명(수정).csv')\n",
    "productnm=productnm[['제품코드','제품명']]"
   ]
  },
  {
   "cell_type": "code",
   "execution_count": 9,
   "id": "fae56bf2",
   "metadata": {},
   "outputs": [],
   "source": [
    "sale_df21 = pd.merge(sale_df21,productnm, on='제품코드', how='outer')"
   ]
  },
  {
   "cell_type": "code",
   "execution_count": 10,
   "id": "7eec67c5",
   "metadata": {},
   "outputs": [],
   "source": [
    "# 계절 별로 데이터 분리\n",
    "\n",
    "sale_winter=sale_df21[(sale_df21['수주일자'] >= '2021-01-01')&(sale_df21['수주일자'] < '2021-03-01')|(sale_df21['수주일자'] >= '2021-12-01')&(sale_df21['수주일자'] < '2022-01-01')]\n",
    "sale_spring=sale_df21[(sale_df21['수주일자'] >= '2021-03-01')&(sale_df21['수주일자'] < '2021-06-01')]\n",
    "sale_summer=sale_df21[(sale_df21['수주일자'] >= '2021-06-01')&(sale_df21['수주일자'] < '2021-09-01')]\n",
    "sale_fall=sale_df21[(sale_df21['수주일자'] >= '2021-09-01')&(sale_df21['수주일자'] < '2021-12-01')]"
   ]
  },
  {
   "cell_type": "markdown",
   "id": "80e39c53",
   "metadata": {},
   "source": [
    "\n",
    "### 증식 데이터 시멘트 출하량 비율에 맞게 조정(21년도)"
   ]
  },
  {
   "cell_type": "code",
   "execution_count": 2,
   "id": "5cb6ce1b",
   "metadata": {},
   "outputs": [],
   "source": [
    "add_21=add_mi.iloc[12:]\n",
    "add_21=add_21[['월','내수계']]\n"
   ]
  },
  {
   "cell_type": "code",
   "execution_count": 3,
   "id": "e9174eb9",
   "metadata": {},
   "outputs": [],
   "source": [
    "add_21['월'] = add_21['월'] -12"
   ]
  },
  {
   "cell_type": "code",
   "execution_count": 4,
   "id": "9c883a9e",
   "metadata": {},
   "outputs": [],
   "source": [
    "# 시멘트 출하량 계절별 도출\n",
    "winter=add_21[(add_21['월']== 1)|(add_21['월']== 2)|(add_21['월']== 12)]['내수계'].sum()\n",
    "spring=add_21[(add_21['월']== 3)|(add_21['월']== 4)|(add_21['월']== 5)]['내수계'].sum()\n",
    "summer=add_21[(add_21['월']== 6)|(add_21['월']== 7)|(add_21['월']== 8)]['내수계'].sum()\n",
    "fall=add_21[(add_21['월']== 9)|(add_21['월']== 10)|(add_21['월']== 11)]['내수계'].sum()"
   ]
  },
  {
   "cell_type": "code",
   "execution_count": 5,
   "id": "1349a8a2",
   "metadata": {},
   "outputs": [
    {
     "name": "stdout",
     "output_type": "stream",
     "text": [
      "13921\n",
      "12104\n",
      "12856\n",
      "10483\n"
     ]
    }
   ],
   "source": [
    "print(spring)\n",
    "print(summer)\n",
    "print(fall)\n",
    "print(winter)"
   ]
  },
  {
   "cell_type": "code",
   "execution_count": 11,
   "id": "7595b9a1",
   "metadata": {},
   "outputs": [],
   "source": [
    "# 계절 별 외부 데이터 다시 원본 데이터와 맞춤\n",
    "p=len(sale_spring)/spring"
   ]
  },
  {
   "cell_type": "code",
   "execution_count": 12,
   "id": "c0a4a3fb",
   "metadata": {},
   "outputs": [],
   "source": [
    "spring = round(spring*p)\n",
    "summer=round(summer*p)\n",
    "fall = round(fall*p)\n",
    "winter = round(winter*p)"
   ]
  },
  {
   "cell_type": "code",
   "execution_count": 13,
   "id": "861fb4c2",
   "metadata": {},
   "outputs": [
    {
     "name": "stdout",
     "output_type": "stream",
     "text": [
      "2626\n",
      "2283\n",
      "2425\n",
      "1977\n"
     ]
    }
   ],
   "source": [
    "print(spring)\n",
    "print(summer)\n",
    "print(fall)\n",
    "print(winter)"
   ]
  },
  {
   "cell_type": "code",
   "execution_count": 14,
   "id": "2cdb5894",
   "metadata": {},
   "outputs": [
    {
     "data": {
      "text/plain": [
       "662"
      ]
     },
     "execution_count": 14,
     "metadata": {},
     "output_type": "execute_result"
    }
   ],
   "source": [
    "# 증식된 데이터 날짜 별 하나 씩 없애기\n",
    "# 제품 건수는 2개 이상 살리기\n",
    "# 원본이 포함된 sale_spring은 건들지 않음\n",
    "\n",
    "# 겨울 차이 673\n",
    "import warnings\n",
    "warnings.filterwarnings('ignore')\n",
    "\n",
    "li=[]         \n",
    "for i,p in zip(list(sale_winter['수주일자'].unique()), list(sale_winter['제품명'].unique())):\n",
    "    k = sale_winter[sale_winter['수주일자'] == i].index\n",
    "    pro = sale_winter[sale_winter['제품명'] == p]\n",
    "    if len(pro) > 2:\n",
    "        j=list(k[0:30])\n",
    "        li.append(j)\n",
    "            \n",
    "            \n",
    "li2=[]\n",
    "for i in li:\n",
    "    for j in i:\n",
    "        li2.append(j)\n",
    "len(li2)"
   ]
  },
  {
   "cell_type": "code",
   "execution_count": 15,
   "id": "12722fc7",
   "metadata": {},
   "outputs": [],
   "source": [
    "sale_winter.drop(li2, inplace=True)"
   ]
  },
  {
   "cell_type": "code",
   "execution_count": 16,
   "id": "0eb1e1b1",
   "metadata": {},
   "outputs": [
    {
     "data": {
      "text/plain": [
       "234"
      ]
     },
     "execution_count": 16,
     "metadata": {},
     "output_type": "execute_result"
    }
   ],
   "source": [
    "# 여름 차이 248\n",
    "li=[]         \n",
    "for i,p in zip(list(sale_summer['수주일자'].unique()), list(sale_summer['제품명'].unique())):\n",
    "    k = sale_summer[sale_summer['수주일자'] == i].index\n",
    "    pro = sale_summer[sale_summer['제품명'] == p]\n",
    "    if len(pro) > 4:\n",
    "        j=list(k[0:13])\n",
    "        li.append(j)\n",
    "            \n",
    "            \n",
    "li2=[]\n",
    "for i in li:\n",
    "    for j in i:\n",
    "        li2.append(j)\n",
    "len(li2)"
   ]
  },
  {
   "cell_type": "code",
   "execution_count": 17,
   "id": "a6a97c56",
   "metadata": {},
   "outputs": [],
   "source": [
    "sale_summer.drop(li2, inplace=True)"
   ]
  },
  {
   "cell_type": "code",
   "execution_count": 18,
   "id": "c6705d95",
   "metadata": {},
   "outputs": [
    {
     "data": {
      "text/plain": [
       "200"
      ]
     },
     "execution_count": 18,
     "metadata": {},
     "output_type": "execute_result"
    }
   ],
   "source": [
    "# 가을 차이 201\n",
    "li=[]         \n",
    "for i,p in zip(list(sale_fall['수주일자'].unique()), list(sale_fall['제품명'].unique())):\n",
    "    k = sale_fall[sale_fall['수주일자'] == i].index\n",
    "    pro = sale_fall[sale_fall['제품명'] == p]\n",
    "    if len(pro) > 4:\n",
    "        j=list(k[0:10])\n",
    "        li.append(j)\n",
    "            \n",
    "            \n",
    "li2=[]\n",
    "for i in li:\n",
    "    for j in i:\n",
    "        li2.append(j)\n",
    "len(li2)"
   ]
  },
  {
   "cell_type": "code",
   "execution_count": 19,
   "id": "bb5dce47",
   "metadata": {},
   "outputs": [],
   "source": [
    "sale_fall.drop(li2, inplace=True)"
   ]
  },
  {
   "cell_type": "code",
   "execution_count": 20,
   "id": "5cdb4c3f",
   "metadata": {},
   "outputs": [],
   "source": [
    "from functools import reduce\n",
    "\n",
    "df_list = [sale_winter,sale_spring,sale_summer,sale_fall]\n",
    "\n",
    "df_2021=reduce(lambda x,y : pd.concat([x,y]),df_list)"
   ]
  },
  {
   "cell_type": "code",
   "execution_count": 21,
   "id": "08b521c0",
   "metadata": {},
   "outputs": [],
   "source": [
    "# # csv 파일\n",
    "# df_2021.to_csv('2021년_증식데이터_편집.csv')"
   ]
  },
  {
   "cell_type": "markdown",
   "id": "26970ea0",
   "metadata": {},
   "source": [
    "### 20년도 데이터 증식 편집"
   ]
  },
  {
   "cell_type": "code",
   "execution_count": 23,
   "id": "1dd6e869",
   "metadata": {},
   "outputs": [],
   "source": [
    "sale_df20 = pd.merge(sale_df20,productnm, on='제품코드', how='outer')"
   ]
  },
  {
   "cell_type": "code",
   "execution_count": 24,
   "id": "e173819d",
   "metadata": {},
   "outputs": [],
   "source": [
    "sale_winter_20=sale_df20[(sale_df20['수주일자'] >= '2020-01-01')&(sale_df20['수주일자'] < '2020-03-01')|(sale_df20['수주일자'] >= '2020-12-01')&(sale_df20['수주일자'] < '2021-01-01')]\n",
    "sale_spring_20=sale_df20[(sale_df20['수주일자'] >= '2020-03-01')&(sale_df20['수주일자'] < '2020-06-01')]\n",
    "sale_summer_20=sale_df20[(sale_df20['수주일자'] >= '2020-06-01')&(sale_df20['수주일자'] < '2020-09-01')]\n",
    "sale_fall_20=sale_df20[(sale_df20['수주일자'] >= '2020-09-01')&(sale_df20['수주일자'] < '2020-12-01')]"
   ]
  },
  {
   "cell_type": "markdown",
   "id": "f51c2e56",
   "metadata": {},
   "source": [
    "### 증식 데이터 시멘트 출하량 비율에 맞게 조정(20년도)"
   ]
  },
  {
   "cell_type": "code",
   "execution_count": 25,
   "id": "9134330c",
   "metadata": {},
   "outputs": [],
   "source": [
    "add_20=add_mi.iloc[:12]"
   ]
  },
  {
   "cell_type": "code",
   "execution_count": 26,
   "id": "0a34a0c7",
   "metadata": {},
   "outputs": [],
   "source": [
    "add_20=add_20[['월','내수계']]"
   ]
  },
  {
   "cell_type": "code",
   "execution_count": 27,
   "id": "3cfc5e2d",
   "metadata": {},
   "outputs": [],
   "source": [
    "# 시멘트 출하량 계절별 도출\n",
    "winter=add_20[(add_20['월']== 1)|(add_20['월']== 2)|(add_20['월']== 12)]['내수계'].sum()\n",
    "spring=add_20[(add_20['월']== 3)|(add_20['월']== 4)|(add_20['월']== 5)]['내수계'].sum()\n",
    "summer=add_20[(add_20['월']== 6)|(add_20['월']== 7)|(add_20['월']== 8)]['내수계'].sum()\n",
    "fall=add_20[(add_20['월']== 9)|(add_20['월']== 10)|(add_20['월']== 11)]['내수계'].sum()"
   ]
  },
  {
   "cell_type": "code",
   "execution_count": 28,
   "id": "2e3282f0",
   "metadata": {},
   "outputs": [],
   "source": [
    "# 계절 별 외부 데이터 다시 원본 데이터와 맞춤\n",
    "p=len(sale_spring_20)/spring"
   ]
  },
  {
   "cell_type": "code",
   "execution_count": 29,
   "id": "b244d175",
   "metadata": {},
   "outputs": [],
   "source": [
    "spring = round(spring*p)\n",
    "summer=round(summer*p)\n",
    "fall = round(fall*p)\n",
    "winter = round(winter*p)"
   ]
  },
  {
   "cell_type": "code",
   "execution_count": 30,
   "id": "341a42e0",
   "metadata": {},
   "outputs": [
    {
     "name": "stdout",
     "output_type": "stream",
     "text": [
      "2020 겨울 외부 원본 차이 :  609\n"
     ]
    }
   ],
   "source": [
    "print('2020 겨울 외부 원본 차이 : ', len(sale_winter_20) - winter)"
   ]
  },
  {
   "cell_type": "code",
   "execution_count": 31,
   "id": "d96e5f9c",
   "metadata": {},
   "outputs": [
    {
     "data": {
      "text/plain": [
       "599"
      ]
     },
     "execution_count": 31,
     "metadata": {},
     "output_type": "execute_result"
    }
   ],
   "source": [
    "# 증식된 데이터 날짜 별 하나 씩 없애기\n",
    "# 제품 건수는 2개 이상 살리기\n",
    "# 원본이 포함된 sale_spring은 건들지 않음\n",
    "\n",
    "import warnings\n",
    "warnings.filterwarnings('ignore')\n",
    "\n",
    "li=[]         \n",
    "for i,p in zip(list(sale_winter_20['수주일자'].unique()), list(sale_winter_20['제품명'].unique())):\n",
    "    k = sale_winter_20[sale_winter_20['수주일자'] == i].index\n",
    "    pro = sale_winter_20[sale_winter_20['제품명'] == p]\n",
    "    if len(pro) > 2:\n",
    "        j=list(k[0:27])\n",
    "        li.append(j)\n",
    "            \n",
    "            \n",
    "li2=[]\n",
    "for i in li:\n",
    "    for j in i:\n",
    "        li2.append(j)\n",
    "len(li2)"
   ]
  },
  {
   "cell_type": "code",
   "execution_count": 32,
   "id": "6934e306",
   "metadata": {},
   "outputs": [],
   "source": [
    "# 수주 데이터 편집\n",
    "sale_winter_20.drop(li2, inplace=True)"
   ]
  },
  {
   "cell_type": "code",
   "execution_count": 33,
   "id": "d981b7cd",
   "metadata": {},
   "outputs": [
    {
     "name": "stdout",
     "output_type": "stream",
     "text": [
      "2020 여름 외부 원본 차이 :  356\n"
     ]
    }
   ],
   "source": [
    "print('2020 여름 외부 원본 차이 : ', len(sale_summer_20) - summer)"
   ]
  },
  {
   "cell_type": "code",
   "execution_count": 34,
   "id": "8d7ee966",
   "metadata": {},
   "outputs": [
    {
     "data": {
      "text/plain": [
       "352"
      ]
     },
     "execution_count": 34,
     "metadata": {},
     "output_type": "execute_result"
    }
   ],
   "source": [
    "# 증식된 데이터 날짜 별 하나 씩 없애기\n",
    "# 제품 건수는 2개 이상 살리기\n",
    "# 원본이 포함된 sale_spring은 건들지 않음\n",
    "\n",
    "import warnings\n",
    "warnings.filterwarnings('ignore')\n",
    "\n",
    "li=[]         \n",
    "for i,p in zip(list(sale_summer_20['수주일자'].unique()), list(sale_summer_20['제품명'].unique())):\n",
    "    k = sale_summer_20[sale_summer_20['수주일자'] == i].index\n",
    "    pro = sale_summer_20[sale_summer_20['제품명'] == p]\n",
    "    if len(pro) > 4:\n",
    "        j=list(k[0:20])\n",
    "        li.append(j)\n",
    "            \n",
    "            \n",
    "li2=[]\n",
    "for i in li:\n",
    "    for j in i:\n",
    "        li2.append(j)\n",
    "len(li2)"
   ]
  },
  {
   "cell_type": "code",
   "execution_count": 35,
   "id": "70fd96bc",
   "metadata": {},
   "outputs": [],
   "source": [
    "sale_summer_20.drop(li2, inplace=True)"
   ]
  },
  {
   "cell_type": "code",
   "execution_count": 36,
   "id": "ed6a3b27",
   "metadata": {},
   "outputs": [
    {
     "data": {
      "text/plain": [
       "22"
      ]
     },
     "execution_count": 36,
     "metadata": {},
     "output_type": "execute_result"
    }
   ],
   "source": [
    "# 증식된 데이터 날짜 별 하나 씩 없애기\n",
    "# 제품 건수는 2개 이상 살리기\n",
    "# 원본이 포함된 sale_spring은 건들지 않음\n",
    "# k(날짜 별 데이터프레임)\n",
    "# pro(제품별 데이터 프레임)\n",
    "# 두 개의 갯수를 조정해서 리스트를 만듦\n",
    "# k의 경우 인덱스를 가져와서 임의로 인덱싱함\n",
    "# pro의 경우 각 제품별 데이터 프레임의 최소 갯수를 임의로 정해줌\n",
    "\n",
    "\n",
    "import warnings\n",
    "warnings.filterwarnings('ignore')\n",
    "\n",
    "li=[]         \n",
    "for i,p in zip(list(sale_fall_20['수주일자'].unique()), list(sale_fall_20['제품명'].unique())):\n",
    "    k = sale_fall_20[sale_fall_20['수주일자'] == i].index\n",
    "    pro = sale_fall_20[sale_fall_20['제품명'] == p]\n",
    "    if len(pro) > 2:\n",
    "        j=list(k[0:1])\n",
    "        li.append(j)\n",
    "            \n",
    "            \n",
    "li2=[]\n",
    "for i in li:\n",
    "    for j in i:\n",
    "        li2.append(j)\n",
    "len(li2)"
   ]
  },
  {
   "cell_type": "code",
   "execution_count": 37,
   "id": "ac972deb",
   "metadata": {},
   "outputs": [],
   "source": [
    "sale_fall_20.drop(li2, inplace=True)"
   ]
  },
  {
   "cell_type": "code",
   "execution_count": 38,
   "id": "eb39699a",
   "metadata": {},
   "outputs": [],
   "source": [
    "# 데이터 다시 합치기\n",
    "\n",
    "from functools import reduce\n",
    "\n",
    "df_list = [sale_winter_20,sale_spring_20,sale_summer_20,sale_fall_20]\n",
    "\n",
    "df_2020=reduce(lambda x,y : pd.concat([x,y]),df_list)"
   ]
  },
  {
   "cell_type": "code",
   "execution_count": 39,
   "id": "5ac15758",
   "metadata": {},
   "outputs": [],
   "source": [
    "# csv 파일\n",
    "# df_2020.to_csv('2020년_증식데이터_편집.csv')"
   ]
  },
  {
   "cell_type": "markdown",
   "id": "402972b9",
   "metadata": {},
   "source": [
    "- 증식된 데이터 날짜 별 하나 씩 없애기\n",
    "- 제품 건수 살리기\n",
    "- 원본이 포함된 sale_spring은 건들지 않음\n",
    "- k(날짜 별 데이터프레임)\n",
    "- pro(제품별 데이터 프레임)\n",
    "- 두 개의 갯수를 조정해서 리스트를 만듦\n",
    "- k의 경우 인덱스를 가져와서 임의로 인덱싱함\n",
    "- pro의 경우 각 제품별 데이터 프레임의 최소 갯수를 임의로 정해줌"
   ]
  }
 ],
 "metadata": {
  "kernelspec": {
   "display_name": "Python 3 (ipykernel)",
   "language": "python",
   "name": "python3"
  },
  "language_info": {
   "codemirror_mode": {
    "name": "ipython",
    "version": 3
   },
   "file_extension": ".py",
   "mimetype": "text/x-python",
   "name": "python",
   "nbconvert_exporter": "python",
   "pygments_lexer": "ipython3",
   "version": "3.8.13"
  },
  "toc": {
   "base_numbering": 1,
   "nav_menu": {},
   "number_sections": true,
   "sideBar": true,
   "skip_h1_title": false,
   "title_cell": "Table of Contents",
   "title_sidebar": "Contents",
   "toc_cell": false,
   "toc_position": {},
   "toc_section_display": true,
   "toc_window_display": false
  }
 },
 "nbformat": 4,
 "nbformat_minor": 5
}
