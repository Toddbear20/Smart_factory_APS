{
 "cells": [
  {
   "cell_type": "code",
   "execution_count": 34,
   "id": "db30ee7f",
   "metadata": {
    "ExecuteTime": {
     "end_time": "2022-12-05T05:30:36.233481Z",
     "start_time": "2022-12-05T05:30:36.214467Z"
    },
    "id": "1c98d916"
   },
   "outputs": [],
   "source": [
    "import pandas as pd\n",
    "import numpy as np\n",
    "import warnings\n",
    "warnings.filterwarnings('ignore')\n",
    "\n",
    "pd.options.display.max_rows = None\n",
    "pd.options.display.max_columns = None"
   ]
  },
  {
   "cell_type": "code",
   "execution_count": 35,
   "id": "55732374",
   "metadata": {
    "ExecuteTime": {
     "end_time": "2022-12-05T05:30:49.431829Z",
     "start_time": "2022-12-05T05:30:49.413882Z"
    },
    "id": "55732374"
   },
   "outputs": [],
   "source": [
    "# receipe = pd.read_excel('./dataset/생산레시피기본.xlsx', header=1)\n",
    "# receipe.drop('Unnamed: 0',axis=1, inplace =True)\n",
    "\n",
    "# client = pd.read_excel('./dataset/거래처기본.xlsx', header=1)\n",
    "# client.drop('Unnamed: 0',axis=1, inplace =True)\n",
    "\n",
    "# LOT = pd.read_excel('./dataset/생산LOT기본.xlsx', header=1)\n",
    "# LOT.drop('Unnamed: 0',axis=1, inplace =True)\n",
    "\n",
    "# sales = pd.read_excel('./dataset/영업수주기본.xlsx', header=1)\n",
    "# sales.drop('Unnamed: 0',axis=1, inplace =True)\n",
    "\n",
    "# material = pd.read_excel('./dataset/원자재기본.xlsx', header=1)\n",
    "# material.drop('Unnamed: 0',axis=1, inplace =True)\n",
    "\n",
    "# delivery = pd.read_excel('./dataset/자재납품기본.xlsx', header=1)\n",
    "# delivery.drop('Unnamed: 0',axis=1, inplace =True)\n",
    "\n",
    "# order = pd.read_excel('./dataset/자재발주기본.xlsx', header=1)\n",
    "# order.drop('Unnamed: 0',axis=1, inplace =True)\n",
    "\n",
    "# product = pd.read_excel('./dataset/제품기본.xlsx', header=1)\n",
    "# product.drop('Unnamed: 0',axis=1, inplace =True)"
   ]
  },
  {
   "cell_type": "markdown",
   "id": "eb15fc0d",
   "metadata": {
    "id": "e1010ac2"
   },
   "source": [
    "- receipe : 생산레시피기본\n",
    "- client : 거래처기본\n",
    "- LOT : 생산LOT기본\n",
    "- sales : 영업수주기본\n",
    "- material : 원자재기본\n",
    "- delivery : 자재납품기본\n",
    "- order : 자재발주기본\n",
    "- product : 제품기본"
   ]
  },
  {
   "cell_type": "code",
   "execution_count": 36,
   "id": "8a6052df",
   "metadata": {
    "ExecuteTime": {
     "end_time": "2022-12-05T05:31:08.970856Z",
     "start_time": "2022-12-05T05:31:08.952987Z"
    }
   },
   "outputs": [],
   "source": [
    "# c20 = pd.read_csv('./시멘트국내출하2020.csv', index_col=0)\n",
    "# c21 = pd.read_csv('./시멘트국내출하2021.csv', index_col=0)\n",
    "\n",
    "# cc = pd.concat([c20,c21]) # 2년치 시멘트 국내출하\n",
    "# cc['월별증감율'] = 0\n",
    "\n",
    "# cc = pd.read_csv('./시멘트2년 국내출하(월별증감율).csv', index_col=0)\n",
    "# cc['월별증감율'][23] = (cc.내수계[23]-cc.내수계[22]) / cc.내수계[22]\n",
    "# cc['월별증감율'][24] = (cc.내수계[24]-cc.내수계[23]) / cc.내수계[23]\n",
    "\n",
    "# cc.head()"
   ]
  },
  {
   "cell_type": "code",
   "execution_count": 46,
   "id": "4964cbcd",
   "metadata": {
    "ExecuteTime": {
     "end_time": "2022-11-10T00:03:33.481479Z",
     "start_time": "2022-11-10T00:03:33.459358Z"
    }
   },
   "outputs": [],
   "source": [
    "# cc.to_csv('./시멘트2년 국내출하(월별증감율).csv')"
   ]
  },
  {
   "cell_type": "code",
   "execution_count": 11,
   "id": "ff4fdd5c",
   "metadata": {
    "ExecuteTime": {
     "end_time": "2022-12-05T05:21:02.798410Z",
     "start_time": "2022-12-05T05:21:02.786384Z"
    }
   },
   "outputs": [],
   "source": [
    "# pd.read_csv('./시멘트2년 국내출하(월별증감율).csv')"
   ]
  },
  {
   "cell_type": "markdown",
   "id": "f10cc831",
   "metadata": {},
   "source": [
    "# 상품명 전처리\n",
    "- 상품명 처리 근거는 처음 받았던 기본 데이터 - SILKROAD_PEMA_카탈로그.pdf 의 형태를 따름"
   ]
  },
  {
   "cell_type": "code",
   "execution_count": 21,
   "id": "36b97e2c",
   "metadata": {
    "ExecuteTime": {
     "end_time": "2022-12-05T05:24:38.357372Z",
     "start_time": "2022-12-05T05:24:38.342423Z"
    }
   },
   "outputs": [
    {
     "data": {
      "text/html": [
       "<div>\n",
       "<style scoped>\n",
       "    .dataframe tbody tr th:only-of-type {\n",
       "        vertical-align: middle;\n",
       "    }\n",
       "\n",
       "    .dataframe tbody tr th {\n",
       "        vertical-align: top;\n",
       "    }\n",
       "\n",
       "    .dataframe thead th {\n",
       "        text-align: right;\n",
       "    }\n",
       "</style>\n",
       "<table border=\"1\" class=\"dataframe\">\n",
       "  <thead>\n",
       "    <tr style=\"text-align: right;\">\n",
       "      <th></th>\n",
       "      <th>제품코드</th>\n",
       "      <th>product_cnt</th>\n",
       "      <th>제품명</th>\n",
       "      <th>약식품번(제품번호와같이키값으로사용)</th>\n",
       "    </tr>\n",
       "  </thead>\n",
       "  <tbody>\n",
       "    <tr>\n",
       "      <th>0</th>\n",
       "      <td>PEMA033035303</td>\n",
       "      <td>32</td>\n",
       "      <td>CSA5000 삼표(성수)</td>\n",
       "      <td>808906</td>\n",
       "    </tr>\n",
       "    <tr>\n",
       "      <th>1</th>\n",
       "      <td>PEMA023058600</td>\n",
       "      <td>31</td>\n",
       "      <td>PEMA-500FR유진(강서)</td>\n",
       "      <td>773206</td>\n",
       "    </tr>\n",
       "    <tr>\n",
       "      <th>2</th>\n",
       "      <td>PEMA033088300</td>\n",
       "      <td>26</td>\n",
       "      <td>PEMA-HR1000성진(안양)</td>\n",
       "      <td>804357</td>\n",
       "    </tr>\n",
       "  </tbody>\n",
       "</table>\n",
       "</div>"
      ],
      "text/plain": [
       "            제품코드  product_cnt                제품명  약식품번(제품번호와같이키값으로사용)\n",
       "0  PEMA033035303           32     CSA5000 삼표(성수)               808906\n",
       "1  PEMA023058600           31   PEMA-500FR유진(강서)               773206\n",
       "2  PEMA033088300           26  PEMA-HR1000성진(안양)               804357"
      ]
     },
     "execution_count": 21,
     "metadata": {},
     "output_type": "execute_result"
    }
   ],
   "source": [
    "df = pd.read_csv('./input_data/상품명 수정.csv')\n",
    "df.head(3)"
   ]
  },
  {
   "cell_type": "markdown",
   "id": "f5a7419e",
   "metadata": {},
   "source": [
    "한글 () . F/A  dd%. d.d%<br>\n",
    "뒷 숫자는 대부분 4자리, 혹은3자리<br>\n",
    "<br>\n",
    "-- 상품명 수정작업(df)\n",
    "1. 괄호 '(' 이후 날리고\n",
    "2. 한글날리기\n",
    "3. 공백 제거\n",
    "4. F/A 날리기\n",
    "5. d.d% 날리기"
   ]
  },
  {
   "cell_type": "code",
   "execution_count": 24,
   "id": "88f9d409",
   "metadata": {
    "ExecuteTime": {
     "end_time": "2022-12-05T05:25:17.411275Z",
     "start_time": "2022-12-05T05:25:17.390278Z"
    }
   },
   "outputs": [
    {
     "data": {
      "text/html": [
       "<div>\n",
       "<style scoped>\n",
       "    .dataframe tbody tr th:only-of-type {\n",
       "        vertical-align: middle;\n",
       "    }\n",
       "\n",
       "    .dataframe tbody tr th {\n",
       "        vertical-align: top;\n",
       "    }\n",
       "\n",
       "    .dataframe thead th {\n",
       "        text-align: right;\n",
       "    }\n",
       "</style>\n",
       "<table border=\"1\" class=\"dataframe\">\n",
       "  <thead>\n",
       "    <tr style=\"text-align: right;\">\n",
       "      <th></th>\n",
       "      <th>제품코드</th>\n",
       "      <th>product_cnt</th>\n",
       "      <th>제품명</th>\n",
       "      <th>약식품번(제품번호와같이키값으로사용)</th>\n",
       "    </tr>\n",
       "  </thead>\n",
       "  <tbody>\n",
       "    <tr>\n",
       "      <th>0</th>\n",
       "      <td>PEMA033035303</td>\n",
       "      <td>32</td>\n",
       "      <td>CSA5000</td>\n",
       "      <td>808906</td>\n",
       "    </tr>\n",
       "    <tr>\n",
       "      <th>1</th>\n",
       "      <td>PEMA023058600</td>\n",
       "      <td>31</td>\n",
       "      <td>PEMA-500FR</td>\n",
       "      <td>773206</td>\n",
       "    </tr>\n",
       "    <tr>\n",
       "      <th>2</th>\n",
       "      <td>PEMA033088300</td>\n",
       "      <td>26</td>\n",
       "      <td>PEMA-HR1000</td>\n",
       "      <td>804357</td>\n",
       "    </tr>\n",
       "  </tbody>\n",
       "</table>\n",
       "</div>"
      ],
      "text/plain": [
       "            제품코드  product_cnt          제품명  약식품번(제품번호와같이키값으로사용)\n",
       "0  PEMA033035303           32     CSA5000                808906\n",
       "1  PEMA023058600           31   PEMA-500FR               773206\n",
       "2  PEMA033088300           26  PEMA-HR1000               804357"
      ]
     },
     "execution_count": 24,
     "metadata": {},
     "output_type": "execute_result"
    }
   ],
   "source": [
    "import re\n",
    "# 1. 괄호 '(' 이후 제거\n",
    "df['제품명'] = df['제품명'].str.extract(r\"([^'(']+)\")\n",
    "# 2. 한글 제거\n",
    "df['제품명'] = df['제품명'].str.extract(r\"([^가-힣]+)\")\n",
    "# 3. 공백 제거\n",
    "# df['제품명'] = df['제품명'].str.extract(r\"([^\\s]+)\")\n",
    "# 4. F/A 이하 제거하기\n",
    "# df['제품명'] = df['제품명'].str.replace(pat=r'[F/A]',repl=r'',regex=True)\n",
    "# 5. d.d%, dd% 날리기\n",
    "df.head(3)"
   ]
  },
  {
   "cell_type": "code",
   "execution_count": 213,
   "id": "09d566e0",
   "metadata": {
    "ExecuteTime": {
     "end_time": "2022-11-10T06:19:09.907513Z",
     "start_time": "2022-11-10T06:19:09.887517Z"
    }
   },
   "outputs": [],
   "source": [
    "# 4. F/A 이하 제거하기CSA5000\n",
    "# df['제품명'] = df['제품명'].str.replace(pat=r\"['F/A']+\",repl=r'',regex=True)\n",
    "\n",
    "# df['제품명'] = df['제품명'].str.extract(r'[]')\n",
    "# df['제품명'] = df['제품명'].str.extract(r\"([^\\s]+)\")"
   ]
  },
  {
   "cell_type": "code",
   "execution_count": null,
   "id": "f860a053",
   "metadata": {
    "ExecuteTime": {
     "end_time": "2022-11-10T06:17:27.145781Z",
     "start_time": "2022-11-10T06:17:27.130153Z"
    }
   },
   "outputs": [],
   "source": [
    "# df[81:82] PEMA-PR10001.5%\n",
    "# df[225:226]PEMA-HR1000F/A15%\n",
    "# df[210:211]PEMA-HR1000F/A\n",
    "# df[242:243] CSA5000F/A\n",
    "# df[274:275]PEMA-HR1500F/A\n",
    "# df[356:357] PEMA-HR1000F/A\n",
    "# df[406] PEMA-HR1000OPC\n",
    "# df[549] CSA5000F/A"
   ]
  },
  {
   "cell_type": "code",
   "execution_count": 25,
   "id": "9160cbef",
   "metadata": {
    "ExecuteTime": {
     "end_time": "2022-12-05T05:26:25.715889Z",
     "start_time": "2022-12-05T05:26:25.692819Z"
    }
   },
   "outputs": [
    {
     "data": {
      "text/html": [
       "<div>\n",
       "<style scoped>\n",
       "    .dataframe tbody tr th:only-of-type {\n",
       "        vertical-align: middle;\n",
       "    }\n",
       "\n",
       "    .dataframe tbody tr th {\n",
       "        vertical-align: top;\n",
       "    }\n",
       "\n",
       "    .dataframe thead th {\n",
       "        text-align: right;\n",
       "    }\n",
       "</style>\n",
       "<table border=\"1\" class=\"dataframe\">\n",
       "  <thead>\n",
       "    <tr style=\"text-align: right;\">\n",
       "      <th></th>\n",
       "      <th>제품코드</th>\n",
       "      <th>product_cnt</th>\n",
       "      <th>제품명</th>\n",
       "      <th>약식품번(제품번호와같이키값으로사용)</th>\n",
       "    </tr>\n",
       "  </thead>\n",
       "  <tbody>\n",
       "    <tr>\n",
       "      <th>81</th>\n",
       "      <td>PEMA013049402</td>\n",
       "      <td>5</td>\n",
       "      <td>PEMA-PR10001.5%</td>\n",
       "      <td>804639</td>\n",
       "    </tr>\n",
       "  </tbody>\n",
       "</table>\n",
       "</div>"
      ],
      "text/plain": [
       "             제품코드  product_cnt              제품명  약식품번(제품번호와같이키값으로사용)\n",
       "81  PEMA013049402            5  PEMA-PR10001.5%               804639"
      ]
     },
     "execution_count": 25,
     "metadata": {},
     "output_type": "execute_result"
    }
   ],
   "source": [
    "df[81:82]"
   ]
  },
  {
   "cell_type": "code",
   "execution_count": 26,
   "id": "2f18f1ff",
   "metadata": {
    "ExecuteTime": {
     "end_time": "2022-12-05T05:26:29.401936Z",
     "start_time": "2022-12-05T05:26:28.902194Z"
    }
   },
   "outputs": [],
   "source": [
    "# F/A, 1.5%, OPC 등 몇개는 수작업\n",
    "df.제품명[81:82] = 'PEMA-PR1000'\n",
    "df.제품명[225:226] = 'PEMA-HR1000'\n",
    "df.제품명[210:211] = 'PEMA-HR1000'\n",
    "df.제품명[242:243] =  'CSA5000'\n",
    "df.제품명[274:275] = 'PEMA-HR1500'\n",
    "df.제품명[356:357] = 'PEMA-HR1000'\n",
    "df.제품명[406] = 'PEMA-HR1000'\n",
    "df.제품명[549] = 'CSA5000'\n",
    "df.제품명[549] = 'CSA5000'"
   ]
  },
  {
   "cell_type": "markdown",
   "id": "8c298dc1",
   "metadata": {
    "ExecuteTime": {
     "end_time": "2022-12-05T05:26:44.311336Z",
     "start_time": "2022-12-05T05:26:44.299118Z"
    }
   },
   "source": [
    "- 처음 돌릴때는 이 파일 저장해야하므로 아래코드 주석 풀어서 사용할 것"
   ]
  },
  {
   "cell_type": "code",
   "execution_count": 27,
   "id": "d3ff555e",
   "metadata": {
    "ExecuteTime": {
     "end_time": "2022-12-05T05:26:44.311336Z",
     "start_time": "2022-12-05T05:26:44.299118Z"
    }
   },
   "outputs": [],
   "source": [
    "# df.to_csv('./output_data/제품명(수정).csv', index = False)"
   ]
  },
  {
   "cell_type": "code",
   "execution_count": 30,
   "id": "27f8a999",
   "metadata": {
    "ExecuteTime": {
     "end_time": "2022-12-05T05:27:45.960186Z",
     "start_time": "2022-12-05T05:27:45.944188Z"
    }
   },
   "outputs": [
    {
     "data": {
      "text/html": [
       "<div>\n",
       "<style scoped>\n",
       "    .dataframe tbody tr th:only-of-type {\n",
       "        vertical-align: middle;\n",
       "    }\n",
       "\n",
       "    .dataframe tbody tr th {\n",
       "        vertical-align: top;\n",
       "    }\n",
       "\n",
       "    .dataframe thead th {\n",
       "        text-align: right;\n",
       "    }\n",
       "</style>\n",
       "<table border=\"1\" class=\"dataframe\">\n",
       "  <thead>\n",
       "    <tr style=\"text-align: right;\">\n",
       "      <th></th>\n",
       "      <th>제품코드</th>\n",
       "      <th>product_cnt</th>\n",
       "      <th>제품명</th>\n",
       "      <th>약식품번(제품번호와같이키값으로사용)</th>\n",
       "    </tr>\n",
       "  </thead>\n",
       "  <tbody>\n",
       "    <tr>\n",
       "      <th>0</th>\n",
       "      <td>PEMA033035303</td>\n",
       "      <td>32</td>\n",
       "      <td>CSA5000</td>\n",
       "      <td>808906</td>\n",
       "    </tr>\n",
       "    <tr>\n",
       "      <th>1</th>\n",
       "      <td>PEMA023058600</td>\n",
       "      <td>31</td>\n",
       "      <td>PEMA-500FR</td>\n",
       "      <td>773206</td>\n",
       "    </tr>\n",
       "    <tr>\n",
       "      <th>2</th>\n",
       "      <td>PEMA033088300</td>\n",
       "      <td>26</td>\n",
       "      <td>PEMA-HR1000</td>\n",
       "      <td>804357</td>\n",
       "    </tr>\n",
       "    <tr>\n",
       "      <th>3</th>\n",
       "      <td>PEMA033046500</td>\n",
       "      <td>21</td>\n",
       "      <td>PEMA-HR1000</td>\n",
       "      <td>766284</td>\n",
       "    </tr>\n",
       "    <tr>\n",
       "      <th>4</th>\n",
       "      <td>PEMA023129801</td>\n",
       "      <td>20</td>\n",
       "      <td>PEMA-PR1000</td>\n",
       "      <td>808625</td>\n",
       "    </tr>\n",
       "  </tbody>\n",
       "</table>\n",
       "</div>"
      ],
      "text/plain": [
       "            제품코드  product_cnt          제품명  약식품번(제품번호와같이키값으로사용)\n",
       "0  PEMA033035303           32      CSA5000               808906\n",
       "1  PEMA023058600           31   PEMA-500FR               773206\n",
       "2  PEMA033088300           26  PEMA-HR1000               804357\n",
       "3  PEMA033046500           21  PEMA-HR1000               766284\n",
       "4  PEMA023129801           20  PEMA-PR1000               808625"
      ]
     },
     "execution_count": 30,
     "metadata": {},
     "output_type": "execute_result"
    }
   ],
   "source": [
    "import pandas as pd\n",
    "ddf = pd.read_csv('./input_data/제품명(수정).csv')\n",
    "ddf.head()"
   ]
  },
  {
   "cell_type": "code",
   "execution_count": 33,
   "id": "e18f5b14",
   "metadata": {
    "ExecuteTime": {
     "end_time": "2022-12-05T05:29:19.922487Z",
     "start_time": "2022-12-05T05:29:19.908536Z"
    }
   },
   "outputs": [],
   "source": [
    "# len(ddf.제품명.unique())"
   ]
  },
  {
   "cell_type": "code",
   "execution_count": 32,
   "id": "7876a295",
   "metadata": {
    "ExecuteTime": {
     "end_time": "2022-12-05T05:29:16.237533Z",
     "start_time": "2022-12-05T05:29:16.228252Z"
    }
   },
   "outputs": [],
   "source": [
    "# ddf['제품명'].value_counts()"
   ]
  }
 ],
 "metadata": {
  "colab": {
   "collapsed_sections": [],
   "provenance": []
  },
  "kernelspec": {
   "display_name": "Python 3 (ipykernel)",
   "language": "python",
   "name": "python3"
  },
  "language_info": {
   "codemirror_mode": {
    "name": "ipython",
    "version": 3
   },
   "file_extension": ".py",
   "mimetype": "text/x-python",
   "name": "python",
   "nbconvert_exporter": "python",
   "pygments_lexer": "ipython3",
   "version": "3.8.13"
  },
  "toc": {
   "base_numbering": 1,
   "nav_menu": {},
   "number_sections": true,
   "sideBar": true,
   "skip_h1_title": false,
   "title_cell": "Table of Contents",
   "title_sidebar": "Contents",
   "toc_cell": false,
   "toc_position": {},
   "toc_section_display": true,
   "toc_window_display": false
  }
 },
 "nbformat": 4,
 "nbformat_minor": 5
}
